{
 "cells": [
  {
   "cell_type": "code",
   "execution_count": 1,
   "metadata": {},
   "outputs": [],
   "source": [
    "# Copyright 2020 NVIDIA Corporation. All Rights Reserved.\n",
    "#\n",
    "# Licensed under the Apache License, Version 2.0 (the \"License\");\n",
    "# you may not use this file except in compliance with the License.\n",
    "# You may obtain a copy of the License at\n",
    "#\n",
    "#     http://www.apache.org/licenses/LICENSE-2.0\n",
    "#\n",
    "# Unless required by applicable law or agreed to in writing, software\n",
    "# distributed under the License is distributed on an \"AS IS\" BASIS,\n",
    "# WITHOUT WARRANTIES OR CONDITIONS OF ANY KIND, either express or implied.\n",
    "# See the License for the specific language governing permissions and\n",
    "# limitations under the License.\n",
    "# =============================================================================="
   ]
  },
  {
   "cell_type": "markdown",
   "metadata": {},
   "source": [
    "<img src=\"https://developer.download.nvidia.com/notebooks/dlsw-notebooks/merlin_merlin_getting-started-movielens-04-triton-inference-with-tf/nvidia_logo.png\" style=\"width: 90px; float: right;\">\n",
    "\n",
    "## Serve Recommendations from the TensorFlow Model\n",
    "\n",
    "This notebook is created using the latest stable [merlin-tensorflow](https://catalog.ngc.nvidia.com/orgs/nvidia/teams/merlin/containers/merlin-tensorflow/tags) container.\n",
    "\n",
    "The last step is to deploy the ETL workflow and saved model to production. In the production setting, we want to transform the input data as done during training ETL. We need to apply the same mean/std for continuous features and use the same categorical mapping to convert the categories to continuous integers before we use the deep learning model for a prediction. Therefore, we deploy the NVTabular workflow with the TensorFlow model as an ensemble model to Triton Inference. The ensemble model guarantees that the same transformation are applied to the raw inputs."
   ]
  },
  {
   "cell_type": "markdown",
   "metadata": {},
   "source": [
    "<img src=\"./imgs/triton-tf.png\" width=\"25%\">\n"
   ]
  },
  {
   "cell_type": "markdown",
   "metadata": {},
   "source": [
    "### Learning Objectives\n",
    "\n",
    "In the previous notebook we explained and showed how we can preprocess data with multi-hot columns with NVTabular, and train an TF MLP model using NVTabular `KerasSequenceLoader`. We learned how to save a workflow, a trained TF model, and the ensemble model. In this notebook, we will show an example request script sent to the Triton Inference Server. We will learn\n",
    "\n",
    "- to transform new/streaming data with NVTabular library\n",
    "- to deploy the end-to-end pipeline to generate prediction results for new data from trained TF model"
   ]
  },
  {
   "cell_type": "markdown",
   "metadata": {},
   "source": [
    "### Launching and Starting the Triton Server"
   ]
  },
  {
   "cell_type": "markdown",
   "metadata": {},
   "source": [
    "Before we get started, you should start the container for Triton Inference Server with the following command. This command includes the `-v` argument that mounts your local `model-repository` folder with your saved models from the previous notebook (`03a-Training-with-TF.ipynb`) to the `/model` directory in the container."
   ]
  },
  {
   "cell_type": "markdown",
   "metadata": {},
   "source": [
    "```\n",
    "docker run -it --gpus device=0 -p 8000:8000 -p 8001:8001 -p 8002:8002 -v ${PWD}:/model/ nvcr.io/nvidia/merlin/merlin-tensorflow:latest\n",
    "```\n"
   ]
  },
  {
   "cell_type": "markdown",
   "metadata": {},
   "source": [
    "After you started the container, you can start Triton Inference Server with the following command.\n",
    "You need to provide correct path for the `models` directory.\n",
    "\n",
    "```\n",
    "tritonserver --model-repository=path_to_models --backend-config=tensorflow,version=2 --model-control-mode=explicit \n",
    "```"
   ]
  },
  {
   "cell_type": "markdown",
   "metadata": {},
   "source": [
    "Note: The model-repository path is `/root/nvt-examples/models`. The models haven't been loaded, yet. Below, we will request the Triton server to load the saved ensemble model."
   ]
  },
  {
   "cell_type": "code",
   "execution_count": 2,
   "metadata": {},
   "outputs": [],
   "source": [
    "# External dependencies\n",
    "import os\n",
    "from time import time\n",
    "\n",
    "# Get dataframe library - cudf or pandas\n",
    "from merlin.core.dispatch import get_lib\n",
    "df_lib = get_lib()\n",
    "\n",
    "import tritonclient.grpc as grpcclient\n",
    "import nvtabular.inference.triton as nvt_triton"
   ]
  },
  {
   "cell_type": "markdown",
   "metadata": {},
   "source": [
    "We define our base directory, containing the data."
   ]
  },
  {
   "cell_type": "code",
   "execution_count": 3,
   "metadata": {},
   "outputs": [],
   "source": [
    "# path to preprocessed data\n",
    "INPUT_DATA_DIR = os.environ.get(\n",
    "    \"INPUT_DATA_DIR\", os.path.expanduser(\"~/nvt-examples/movielens/data/\")\n",
    ")"
   ]
  },
  {
   "cell_type": "markdown",
   "metadata": {},
   "source": [
    "Let's deactivate the warnings before sending requests."
   ]
  },
  {
   "cell_type": "code",
   "execution_count": 4,
   "metadata": {},
   "outputs": [],
   "source": [
    "import warnings\n",
    "\n",
    "warnings.filterwarnings(\"ignore\")"
   ]
  },
  {
   "cell_type": "markdown",
   "metadata": {},
   "source": [
    "### Loading Ensemble Model with Triton Inference Serve"
   ]
  },
  {
   "cell_type": "markdown",
   "metadata": {},
   "source": [
    "At this stage, you should have launched the Triton Inference Server docker container with the instructions above."
   ]
  },
  {
   "cell_type": "markdown",
   "metadata": {},
   "source": [
    "Let's connect to the Triton Inference Server. Use Triton’s ready endpoint to verify that the server and the models are ready for inference. Replace localhost with your host ip address."
   ]
  },
  {
   "cell_type": "code",
   "execution_count": 5,
   "metadata": {},
   "outputs": [
    {
     "name": "stdout",
     "output_type": "stream",
     "text": [
      "client created.\n"
     ]
    },
    {
     "name": "stderr",
     "output_type": "stream",
     "text": [
      "/usr/local/lib/python3.8/dist-packages/tritonhttpclient/__init__.py:31: DeprecationWarning: The package `tritonhttpclient` is deprecated and will be removed in a future version. Please use instead `tritonclient.http`\n",
      "  warnings.warn(\n"
     ]
    }
   ],
   "source": [
    "import tritonhttpclient\n",
    "\n",
    "try:\n",
    "    triton_client = tritonhttpclient.InferenceServerClient(url=\"localhost:8000\", verbose=True)\n",
    "    print(\"client created.\")\n",
    "except Exception as e:\n",
    "    print(\"channel creation failed: \" + str(e))"
   ]
  },
  {
   "cell_type": "code",
   "execution_count": 6,
   "metadata": {},
   "outputs": [],
   "source": [
    "import warnings\n",
    "\n",
    "warnings.filterwarnings(\"ignore\")"
   ]
  },
  {
   "cell_type": "markdown",
   "metadata": {},
   "source": [
    "We check if the server is alive."
   ]
  },
  {
   "cell_type": "code",
   "execution_count": 7,
   "metadata": {},
   "outputs": [
    {
     "name": "stdout",
     "output_type": "stream",
     "text": [
      "GET /v2/health/live, headers None\n",
      "<HTTPSocketPoolResponse status=200 headers={'content-length': '0', 'content-type': 'text/plain'}>\n"
     ]
    },
    {
     "data": {
      "text/plain": [
       "True"
      ]
     },
     "execution_count": 7,
     "metadata": {},
     "output_type": "execute_result"
    }
   ],
   "source": [
    "triton_client.is_server_live()"
   ]
  },
  {
   "cell_type": "markdown",
   "metadata": {},
   "source": [
    "The HTTP request returns status 200 if Triton is ready and non-200 if it is not ready."
   ]
  },
  {
   "cell_type": "markdown",
   "metadata": {},
   "source": [
    "We check the available models in the repositories:\n",
    "\n",
    "movielens: Ensemble <br>\n",
    "movielens_nvt: NVTabular <br>\n",
    "movielens_tf: TensorFlow model"
   ]
  },
  {
   "cell_type": "code",
   "execution_count": 8,
   "metadata": {},
   "outputs": [
    {
     "name": "stdout",
     "output_type": "stream",
     "text": [
      "POST /v2/repository/index, headers None\n",
      "\n",
      "<HTTPSocketPoolResponse status=200 headers={'content-type': 'application/json', 'content-length': '71'}>\n",
      "bytearray(b'[{\"name\":\"movielens\"},{\"name\":\"movielens_nvt\"},{\"name\":\"movielens_tf\"}]')\n"
     ]
    },
    {
     "data": {
      "text/plain": [
       "[{'name': 'movielens'}, {'name': 'movielens_nvt'}, {'name': 'movielens_tf'}]"
      ]
     },
     "execution_count": 8,
     "metadata": {},
     "output_type": "execute_result"
    }
   ],
   "source": [
    "triton_client.get_model_repository_index()"
   ]
  },
  {
   "cell_type": "markdown",
   "metadata": {},
   "source": [
    "We load the ensemble model."
   ]
  },
  {
   "cell_type": "code",
   "execution_count": 9,
   "metadata": {},
   "outputs": [
    {
     "name": "stdout",
     "output_type": "stream",
     "text": [
      "POST /v2/repository/models/movielens/load, headers None\n",
      "{}\n",
      "<HTTPSocketPoolResponse status=200 headers={'content-type': 'application/json', 'content-length': '0'}>\n",
      "Loaded model 'movielens'\n",
      "CPU times: user 1.53 ms, sys: 0 ns, total: 1.53 ms\n",
      "Wall time: 2.99 s\n"
     ]
    }
   ],
   "source": [
    "%%time\n",
    "\n",
    "triton_client.load_model(model_name=\"movielens\")"
   ]
  },
  {
   "cell_type": "markdown",
   "metadata": {},
   "source": [
    "### Send a Request to Triton Inference Server to Transform a Raw Dataset"
   ]
  },
  {
   "cell_type": "markdown",
   "metadata": {},
   "source": [
    "A minimal model repository for a TensorFlow SavedModel model is:\n",
    "```\n",
    "  <model-repository-path>/<model-name>/\n",
    "      config.pbtxt\n",
    "      1/\n",
    "        model.savedmodel/\n",
    "           <saved-model files>\n",
    "```\n",
    "Let's check out our model repository layout. You can install tree library with apt-get install tree, and then run `!tree /model/models/` to print out the model repository layout as below:\n",
    "               \n",
    "```\n",
    "/model/models/\n",
    "|-- movielens\n",
    "|   |-- 1\n",
    "|   `-- config.pbtxt\n",
    "|-- movielens_nvt\n",
    "|   |-- 1\n",
    "|   |   |-- __pycache__\n",
    "|   |   |   `-- model.cpython-38.pyc\n",
    "|   |   |-- model.py\n",
    "|   |   `-- workflow\n",
    "|   |       |-- categories\n",
    "|   |       |   |-- unique.genres.parquet\n",
    "|   |       |   |-- unique.movieId.parquet\n",
    "|   |       |   `-- unique.userId.parquet\n",
    "|   |       |-- metadata.json\n",
    "|   |       `-- workflow.pkl\n",
    "|   `-- config.pbtxt\n",
    "`-- movielens_tf\n",
    "    |-- 1\n",
    "    |   `-- model.savedmodel\n",
    "    |       |-- assets\n",
    "    |       |-- saved_model.pb\n",
    "    |       `-- variables\n",
    "    |           |-- variables.data-00000-of-00001\n",
    "    |           `-- variables.index\n",
    "    `-- config.pbtxt\n",
    "```\n",
    "You can see that we have a `config.pbtxt` file. Each model in a model repository must include a model configuration that provides required and optional information about the model. Typically, this configuration is provided in a `config.pbtxt` file specified as [ModelConfig protobuf](https://github.com/triton-inference-server/server/blob/r20.12/src/core/model_config.proto)."
   ]
  },
  {
   "cell_type": "markdown",
   "metadata": {},
   "source": [
    "Let's read the raw validation set, and send 3 rows of `userId` and `movieId` as input to the saved NVTabular model."
   ]
  },
  {
   "cell_type": "code",
   "execution_count": 10,
   "metadata": {},
   "outputs": [
    {
     "name": "stdout",
     "output_type": "stream",
     "text": [
      "          userId  movieId\n",
      "2513996    16767     1527\n",
      "17105440  110918    56367\n",
      "19615955  127382     7099\n"
     ]
    }
   ],
   "source": [
    "# read in the workflow (to get input/output schema to call triton with)\n",
    "batch = df_lib.read_parquet(\n",
    "    os.path.join(INPUT_DATA_DIR, \"valid.parquet\"), num_rows=3, columns=[\"userId\", \"movieId\"]\n",
    ")\n",
    "print(batch)"
   ]
  },
  {
   "cell_type": "code",
   "execution_count": 11,
   "metadata": {},
   "outputs": [
    {
     "name": "stdout",
     "output_type": "stream",
     "text": [
      "userId [[ 78578]\n",
      " [113524]\n",
      " [ 33179]] (3, 1)\n",
      "movieId [[  71]\n",
      " [ 236]\n",
      " [1166]] (3, 1)\n",
      "genres__nnzs [[4]\n",
      " [3]\n",
      " [5]] (3, 1)\n",
      "genres__values [[ 3]\n",
      " [ 5]\n",
      " [ 2]\n",
      " [ 7]\n",
      " [ 2]\n",
      " [ 1]\n",
      " [ 6]\n",
      " [ 5]\n",
      " [13]\n",
      " [ 1]\n",
      " [ 9]\n",
      " [ 7]] (12, 1)\n"
     ]
    }
   ],
   "source": [
    "inputs = nvt_triton.convert_df_to_triton_input([\"userId\", \"movieId\"], batch, grpcclient.InferInput)\n",
    "\n",
    "outputs = [\n",
    "    grpcclient.InferRequestedOutput(col)\n",
    "    for col in [\"userId\", \"movieId\", \"genres__nnzs\", \"genres__values\"]\n",
    "]\n",
    "\n",
    "MODEL_NAME_NVT = os.environ.get(\"MODEL_NAME_NVT\", \"movielens_nvt\")\n",
    "\n",
    "with grpcclient.InferenceServerClient(\"localhost:8001\") as client:\n",
    "    response = client.infer(MODEL_NAME_NVT, inputs, request_id=\"1\", outputs=outputs)\n",
    "\n",
    "for col in [\"userId\", \"movieId\", \"genres__nnzs\", \"genres__values\"]:\n",
    "    print(col, response.as_numpy(col), response.as_numpy(col).shape)"
   ]
  },
  {
   "cell_type": "markdown",
   "metadata": {},
   "source": [
    "You might notice that we don't need to send the genres column as an input. The reason for that is the nvt model will look up the genres for each movie as part of the `JoinExternal` op it applies. Also notice that when creating the request for the `movielens_nvt` model, we return 2 columns (values and nnzs) for the `genres` column rather than 1."
   ]
  },
  {
   "cell_type": "markdown",
   "metadata": {},
   "source": [
    "### Build the End-To-End Inference Pipeline"
   ]
  },
  {
   "cell_type": "markdown",
   "metadata": {},
   "source": [
    "We will do the same, but this time we directly read in first 3 rows of the the raw `valid.parquet` file with cuDF."
   ]
  },
  {
   "cell_type": "code",
   "execution_count": 12,
   "metadata": {},
   "outputs": [
    {
     "name": "stdout",
     "output_type": "stream",
     "text": [
      "raw data:\n",
      "           userId  movieId\n",
      "2513996    16767     1527\n",
      "17105440  110918    56367\n",
      "19615955  127382     7099 \n",
      "\n",
      "predicted sigmoid result:\n",
      " [[0.6152474]\n",
      " [0.6197107]\n",
      " [0.6189732]]\n"
     ]
    }
   ],
   "source": [
    "# read in the workflow (to get input/output schema to call triton with)\n",
    "batch = df_lib.read_parquet(\n",
    "    os.path.join(INPUT_DATA_DIR, \"valid.parquet\"), num_rows=3, columns=[\"userId\", \"movieId\"]\n",
    ")\n",
    "\n",
    "print(\"raw data:\\n\", batch, \"\\n\")\n",
    "\n",
    "# convert the batch to a triton inputs\n",
    "inputs = nvt_triton.convert_df_to_triton_input([\"userId\", \"movieId\"], batch, grpcclient.InferInput)\n",
    "\n",
    "# placeholder variables for the output\n",
    "outputs = [grpcclient.InferRequestedOutput(\"output\")]\n",
    "\n",
    "MODEL_NAME_ENSEMBLE = os.environ.get(\"MODEL_NAME_ENSEMBLE\", \"movielens\")\n",
    "\n",
    "# build a client to connect to our server.\n",
    "# This InferenceServerClient object is what we'll be using to talk to Triton.\n",
    "# make the request with tritonclient.grpc.InferInput object\n",
    "\n",
    "with grpcclient.InferenceServerClient(\"localhost:8001\") as client:\n",
    "    response = client.infer(MODEL_NAME_ENSEMBLE, inputs, request_id=\"1\", outputs=outputs)\n",
    "\n",
    "print(\"predicted sigmoid result:\\n\", response.as_numpy(\"output\"))"
   ]
  },
  {
   "cell_type": "markdown",
   "metadata": {},
   "source": [
    "Let's send request for a larger batch size and measure the total run time and throughput."
   ]
  },
  {
   "cell_type": "code",
   "execution_count": 13,
   "metadata": {},
   "outputs": [
    {
     "name": "stdout",
     "output_type": "stream",
     "text": [
      "predicted sigmoid result:\n",
      " [[0.6152474 ]\n",
      " [0.6197106 ]\n",
      " [0.6189732 ]\n",
      " [0.61421186]\n",
      " [0.61287224]\n",
      " [0.612817  ]\n",
      " [0.61092085]\n",
      " [0.6234857 ]\n",
      " [0.61349696]\n",
      " [0.61103773]\n",
      " [0.61636466]\n",
      " [0.61942095]\n",
      " [0.6194856 ]\n",
      " [0.6162945 ]\n",
      " [0.60351753]\n",
      " [0.609695  ]\n",
      " [0.62262255]\n",
      " [0.6180354 ]\n",
      " [0.6175308 ]\n",
      " [0.61908466]\n",
      " [0.6161449 ]\n",
      " [0.6128701 ]\n",
      " [0.60643166]\n",
      " [0.616207  ]\n",
      " [0.616828  ]\n",
      " [0.6228604 ]\n",
      " [0.6162526 ]\n",
      " [0.6177362 ]\n",
      " [0.6238064 ]\n",
      " [0.6199255 ]\n",
      " [0.6200201 ]\n",
      " [0.61577153]\n",
      " [0.6227766 ]\n",
      " [0.6123207 ]\n",
      " [0.6177533 ]\n",
      " [0.6164962 ]\n",
      " [0.6176095 ]\n",
      " [0.6182202 ]\n",
      " [0.6162337 ]\n",
      " [0.615147  ]\n",
      " [0.61689186]\n",
      " [0.6206259 ]\n",
      " [0.6219693 ]\n",
      " [0.6189993 ]\n",
      " [0.60714984]\n",
      " [0.61736315]\n",
      " [0.6237706 ]\n",
      " [0.6075932 ]\n",
      " [0.6135807 ]\n",
      " [0.6114176 ]\n",
      " [0.6124701 ]\n",
      " [0.61637044]\n",
      " [0.6148614 ]\n",
      " [0.62120986]\n",
      " [0.60603315]\n",
      " [0.61048526]\n",
      " [0.61690056]\n",
      " [0.61266035]\n",
      " [0.6128772 ]\n",
      " [0.6178152 ]\n",
      " [0.61760587]\n",
      " [0.61757046]\n",
      " [0.6055966 ]\n",
      " [0.6156989 ]] \n",
      "\n",
      "run_time(sec): 0.01111745834350586 - rows: 64 - inference_thru: 5756.71147330045\n"
     ]
    }
   ],
   "source": [
    "# read in the workflow (to get input/output schema to call triton with)\n",
    "batch_size = 64\n",
    "batch = df_lib.read_parquet(\n",
    "    os.path.join(INPUT_DATA_DIR, \"valid.parquet\"),\n",
    "    num_rows=batch_size,\n",
    "    columns=[\"userId\", \"movieId\"],\n",
    ")\n",
    "\n",
    "start = time()\n",
    "# convert the batch to a triton inputs\n",
    "inputs = nvt_triton.convert_df_to_triton_input([\"userId\", \"movieId\"], batch, grpcclient.InferInput)\n",
    "\n",
    "# placeholder variables for the output\n",
    "outputs = [grpcclient.InferRequestedOutput(\"output\")]\n",
    "\n",
    "MODEL_NAME_ENSEMBLE = os.environ.get(\"MODEL_NAME_ENSEMBLE\", \"movielens\")\n",
    "\n",
    "# build a client to connect to our server.\n",
    "# This InferenceServerClient object is what we'll be using to talk to Triton.\n",
    "# make the request with tritonclient.grpc.InferInput object\n",
    "\n",
    "with grpcclient.InferenceServerClient(\"localhost:8001\") as client:\n",
    "    response = client.infer(MODEL_NAME_ENSEMBLE, inputs, request_id=\"1\", outputs=outputs)\n",
    "\n",
    "t_final = time() - start\n",
    "print(\"predicted sigmoid result:\\n\", response.as_numpy(\"output\"), \"\\n\")\n",
    "\n",
    "print(f\"run_time(sec): {t_final} - rows: {batch_size} - inference_thru: {batch_size / t_final}\")"
   ]
  },
  {
   "cell_type": "markdown",
   "metadata": {},
   "source": [
    "Let's unload all the models."
   ]
  },
  {
   "cell_type": "code",
   "execution_count": 14,
   "metadata": {},
   "outputs": [
    {
     "name": "stdout",
     "output_type": "stream",
     "text": [
      "POST /v2/repository/models/movielens/unload, headers None\n",
      "{\"parameters\":{\"unload_dependents\":false}}\n",
      "<HTTPSocketPoolResponse status=200 headers={'content-type': 'application/json', 'content-length': '0'}>\n",
      "Loaded model 'movielens'\n",
      "POST /v2/repository/models/movielens_nvt/unload, headers None\n",
      "{\"parameters\":{\"unload_dependents\":false}}\n",
      "<HTTPSocketPoolResponse status=200 headers={'content-type': 'application/json', 'content-length': '0'}>\n",
      "Loaded model 'movielens_nvt'\n",
      "POST /v2/repository/models/movielens_tf/unload, headers None\n",
      "{\"parameters\":{\"unload_dependents\":false}}\n",
      "<HTTPSocketPoolResponse status=200 headers={'content-type': 'application/json', 'content-length': '0'}>\n",
      "Loaded model 'movielens_tf'\n"
     ]
    }
   ],
   "source": [
    "triton_client.unload_model(model_name=\"movielens\")\n",
    "triton_client.unload_model(model_name=\"movielens_nvt\")\n",
    "triton_client.unload_model(model_name=\"movielens_tf\")"
   ]
  }
 ],
 "metadata": {
  "kernelspec": {
   "display_name": "Python 3 (ipykernel)",
   "language": "python",
   "name": "python3"
  },
  "language_info": {
   "codemirror_mode": {
    "name": "ipython",
    "version": 3
   },
   "file_extension": ".py",
   "mimetype": "text/x-python",
   "name": "python",
   "nbconvert_exporter": "python",
   "pygments_lexer": "ipython3",
   "version": "3.8.10"
  },
  "merlin": {
   "containers": [
    "nvcr.io/nvidia/merlin/merlin-tensorflow:latest"
   ]
  }
 },
 "nbformat": 4,
 "nbformat_minor": 4
}
